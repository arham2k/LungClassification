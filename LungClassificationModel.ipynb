{
 "cells": [
  {
   "cell_type": "code",
   "execution_count": 1,
   "metadata": {},
   "outputs": [
    {
     "name": "stdout",
     "output_type": "stream",
     "text": [
      "Path to dataset files: C:\\Users\\ArhamPC\\.cache\\kagglehub\\datasets\\tawsifurrahman\\covid19-radiography-database\\versions\\5\n"
     ]
    }
   ],
   "source": [
    "# Import Data\n",
    "\n",
    "import kagglehub\n",
    "\n",
    "# Download latest version\n",
    "path = kagglehub.dataset_download(\"tawsifurrahman/covid19-radiography-database\")\n",
    "\n",
    "print(\"Path to dataset files:\", path)"
   ]
  },
  {
   "cell_type": "code",
   "execution_count": 12,
   "metadata": {},
   "outputs": [],
   "source": [
    "import os\n",
    "import cv2\n",
    "import matplotlib.pyplot as plt"
   ]
  },
  {
   "cell_type": "code",
   "execution_count": 13,
   "metadata": {},
   "outputs": [
    {
     "name": "stdout",
     "output_type": "stream",
     "text": [
      "path_to_dataset\n",
      "['COVID', 'NORMAL', 'PNEUMONIA']\n"
     ]
    }
   ],
   "source": [
    "data_path = \"path_to_dataset\"\n",
    "categories = [\"COVID\", \"NORMAL\", \"PNEUMONIA\"]\n",
    "\n",
    "print(data_path)\n",
    "print(categories)"
   ]
  },
  {
   "cell_type": "code",
   "execution_count": null,
   "metadata": {},
   "outputs": [
    {
     "name": "stdout",
     "output_type": "stream",
     "text": [
      "C:\\Users\\ArhamPC\\.cache\\kagglehub\\datasets\\tawsifurrahman\\covid19-radiography-database\\versions\\5\n",
      "[None]\n"
     ]
    },
    {
     "ename": "error",
     "evalue": "OpenCV(4.10.0) D:\\a\\opencv-python\\opencv-python\\opencv\\modules\\imgproc\\src\\color.cpp:196: error: (-215:Assertion failed) !_src.empty() in function 'cv::cvtColor'\n",
     "output_type": "error",
     "traceback": [
      "\u001b[1;31m---------------------------------------------------------------------------\u001b[0m",
      "\u001b[1;31merror\u001b[0m                                     Traceback (most recent call last)",
      "Cell \u001b[1;32mIn[17], line 23\u001b[0m\n\u001b[0;32m     21\u001b[0m \u001b[38;5;28;01mfor\u001b[39;00m category \u001b[38;5;129;01min\u001b[39;00m categories:\n\u001b[0;32m     22\u001b[0m     images \u001b[38;5;241m=\u001b[39m load_sample_images(category)\n\u001b[1;32m---> 23\u001b[0m     visualize_images(images, category)\n",
      "Cell \u001b[1;32mIn[17], line 15\u001b[0m, in \u001b[0;36mvisualize_images\u001b[1;34m(images, category)\u001b[0m\n\u001b[0;32m     13\u001b[0m \u001b[38;5;28;01mfor\u001b[39;00m i, img \u001b[38;5;129;01min\u001b[39;00m \u001b[38;5;28menumerate\u001b[39m(images):\n\u001b[0;32m     14\u001b[0m     plt\u001b[38;5;241m.\u001b[39msubplot(\u001b[38;5;241m1\u001b[39m, \u001b[38;5;241m5\u001b[39m, i \u001b[38;5;241m+\u001b[39m \u001b[38;5;241m1\u001b[39m)\n\u001b[1;32m---> 15\u001b[0m     plt\u001b[38;5;241m.\u001b[39mimshow(cv2\u001b[38;5;241m.\u001b[39mcvtColor(img, cv2\u001b[38;5;241m.\u001b[39mCOLOR_BGR2RGB))\n\u001b[0;32m     16\u001b[0m     plt\u001b[38;5;241m.\u001b[39mtitle(category)\n\u001b[0;32m     17\u001b[0m     plt\u001b[38;5;241m.\u001b[39maxis(\u001b[38;5;124m\"\u001b[39m\u001b[38;5;124moff\u001b[39m\u001b[38;5;124m\"\u001b[39m)\n",
      "\u001b[1;31merror\u001b[0m: OpenCV(4.10.0) D:\\a\\opencv-python\\opencv-python\\opencv\\modules\\imgproc\\src\\color.cpp:196: error: (-215:Assertion failed) !_src.empty() in function 'cv::cvtColor'\n"
     ]
    },
    {
     "data": {
      "image/png": "[encoded data removed]",
      "text/plain": [
       "<Figure size 1200x600 with 1 Axes>"
      ]
     },
     "metadata": {},
     "output_type": "display_data"
    }
   ],
   "source": [
    "# Function to load a sample image\n",
    "def load_sample_images(category):\n",
    "    \n",
    "    print (path)\n",
    "    filenames = os.listdir(path)[:5]  # Load the first 5 images\n",
    "    images = [cv2.imread(os.path.join(path, file)) for file in filenames]\n",
    "  \n",
    "    return images\n",
    "\n",
    "# Visualize images\n",
    "def visualize_images(images, category):\n",
    "    plt.figure(figsize=(12, 6))\n",
    "    for i, img in enumerate(images):\n",
    "        plt.subplot(1, 5, i + 1)\n",
    "        plt.imshow(cv2.cvtColor(img, cv2.COLOR_BGR2RGB))\n",
    "        plt.title(category)\n",
    "        plt.axis(\"off\")\n",
    "    plt.show()\n",
    "\n",
    "# Load and visualize\n",
    "for category in categories:\n",
    "    images = load_sample_images(category)\n",
    "    visualize_images(images, category)"
   ]
  }
 ],
 "metadata": {
  "kernelspec": {
   "display_name": "base",
   "language": "python",
   "name": "python3"
  },
  "language_info": {
   "codemirror_mode": {
    "name": "ipython",
    "version": 3
   },
   "file_extension": ".py",
   "mimetype": "text/x-python",
   "name": "python",
   "nbconvert_exporter": "python",
   "pygments_lexer": "ipython3",
   "version": "3.11.5"
  }
 },
 "nbformat": 4,
 "nbformat_minor": 2
}
